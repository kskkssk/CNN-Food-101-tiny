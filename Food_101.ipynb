{
 "cells": [
  {
   "cell_type": "code",
   "execution_count": 179,
   "id": "b5ac8e05-5539-4353-9bd0-038f8dae6062",
   "metadata": {},
   "outputs": [],
   "source": [
    "import torch\n",
    "import torch.nn as nn\n",
    "import torch.nn.functional as F\n",
    "import torchvision as tv\n",
    "\n",
    "import numpy as np\n",
    "import matplotlib.pyplot as plt\n",
    "from tqdm import tqdm\n",
    "import os\n",
    "import cv2"
   ]
  },
  {
   "cell_type": "code",
   "execution_count": 180,
   "id": "38de4978-acce-4333-a597-b0e242a1745f",
   "metadata": {},
   "outputs": [],
   "source": [
    "class Dataset2class(torch.utils.data.Dataset):\n",
    "    def __init__(self, path_dir1:str, path_dir2:str):\n",
    "        super().__init__()\n",
    "\n",
    "        self.path_dir1 = path_dir1\n",
    "        self.path_dir2 = path_dir2\n",
    "       \n",
    "        self.list_dir1 = sorted(os.listdir(path_dir1))\n",
    "        self.list_dir2 = sorted(os.listdir(path_dir2))\n",
    "        \n",
    "    def __len__(self):\n",
    "        return len(self.list_dir1) + len(self.list_dir2)\n",
    "        \n",
    "    def __getitem__(self, index):\n",
    "        if index < len(self.list_dir1):\n",
    "            class_id = 0\n",
    "            img_path = os.path.join(self.path_dir1, self.list_dir1[index])\n",
    "        else: \n",
    "            class_id = 1\n",
    "            index -= len(self.list_dir1)\n",
    "            img_path = os.path.join(self.path_dir2, self.list_dir2[index])\n",
    "\n",
    "        img = cv2.imread(img_path, cv2.IMREAD_COLOR) \n",
    "        img = cv2.cvtColor(img, cv2.COLOR_BGR2RGB)\n",
    "        img = img.astype(np.float32)\n",
    "        img = img/255.0\n",
    "\n",
    "        img = cv2.resize(img, (64, 64), interpolation=cv2.INTER_AREA)\n",
    "\n",
    "        img = img.transpose((2, 0, 1))\n",
    "\n",
    "        t_img = torch.from_numpy(img)\n",
    "\n",
    "        t_class_id = torch.tensor(class_id)\n",
    "\n",
    "        return {'img': t_img, 'label': t_class_id}   "
   ]
  },
  {
   "cell_type": "code",
   "execution_count": 181,
   "id": "566c93b6-3c4f-422f-a105-fab36ec195f4",
   "metadata": {},
   "outputs": [],
   "source": [
    "train_ice_cream = '/home/sasha/Рабочий стол/data/food-101-tiny/train/ice_cream'\n",
    "train_french_toast = '/home/sasha/Рабочий стол/data/food-101-tiny/train/french_toast'\n",
    "test_ice_cream = '/home/sasha/Рабочий стол/data/food-101-tiny/valid/ice_cream'\n",
    "test_french_toast = '/home/sasha/Рабочий стол/data/food-101-tiny/valid/french_toast'\n",
    "\n",
    "train_ds_ic_ft = Dataset2class(train_ice_cream, train_french_toast)\n",
    "test_ds_ic_ft = Dataset2class(test_ice_cream, test_french_toast)"
   ]
  },
  {
   "cell_type": "code",
   "execution_count": 182,
   "id": "7db5ee0a-a92c-4ae6-8ba0-fa3151255408",
   "metadata": {},
   "outputs": [],
   "source": [
    "batch_size = 16\n",
    "train_dataloader = torch.utils.data.DataLoader(train_ds_ic_ft, shuffle=True, batch_size=batch_size, num_workers=1, drop_last=True)\n",
    "\n",
    "test_dataloader = torch.utils.data.DataLoader(train_ds_ic_ft, shuffle=True, batch_size=batch_size, num_workers=1, drop_last=False)"
   ]
  },
  {
   "cell_type": "code",
   "execution_count": 195,
   "id": "2e2c1420-7040-4c0b-803f-080cbda30b9e",
   "metadata": {},
   "outputs": [],
   "source": [
    "class ConvolNet(nn.Module):\n",
    "    def __init__(self):\n",
    "        super().__init__()\n",
    "\n",
    "        self.act = nn.LeakyReLU()\n",
    "        self.maxpool = nn.MaxPool2d(2, 2)\n",
    "        self.conv0 = nn.Conv2d(3, 32, 3, stride=1, padding=0)\n",
    "        self.conv1 = nn.Conv2d(32, 32, 3, stride=1, padding=0)\n",
    "        self.conv2 = nn.Conv2d(32, 64, 3, stride=1, padding=0)\n",
    "        self.conv3 = nn.Conv2d(64, 128, 3, stride=1, padding=0)\n",
    "\n",
    "        self.adaptive = nn.AdaptiveAvgPool2d((1,1))\n",
    "        self.flatten = nn.Flatten()\n",
    "        self.linear1 = nn.Linear(128, 10)\n",
    "        self.linear2 = nn.Linear(10, 2)\n",
    "        \n",
    "    def forward(self, x):\n",
    "\n",
    "        out = self.conv0(x)\n",
    "        out = self.act(out)\n",
    "        out = self.maxpool(out)\n",
    "        \n",
    "        out = self.conv1(out)\n",
    "        out = self.act(out)\n",
    "        out = self.maxpool(out)\n",
    "        \n",
    "        out = self.conv2(out)\n",
    "        out = self.act(out)\n",
    "        out = self.maxpool(out)\n",
    "\n",
    "        out = self.conv3(out)\n",
    "        out = self.act(out)\n",
    "\n",
    "        out = self.adaptive(out)\n",
    "        out = self.flatten(out)\n",
    "        out = self.linear1(out)\n",
    "        out = self.act(out)\n",
    "        out = self.linear2(out)\n",
    "\n",
    "        return out\n",
    "        "
   ]
  },
  {
   "cell_type": "code",
   "execution_count": 196,
   "id": "781be485-d38b-4460-a61f-0913ae8a0c7f",
   "metadata": {},
   "outputs": [],
   "source": [
    "net = ConvolNet()"
   ]
  },
  {
   "cell_type": "code",
   "execution_count": 197,
   "id": "894b1fdc-09ec-4f59-9540-1b5cab85e44d",
   "metadata": {},
   "outputs": [],
   "source": [
    "for sample in train_dataloader:\n",
    "    img = sample['img']\n",
    "    label = sample['label']\n",
    "    net(img)\n",
    "    break"
   ]
  },
  {
   "cell_type": "code",
   "execution_count": 204,
   "id": "ec60d6bb-80ff-4017-95b6-3c1b8acb4492",
   "metadata": {},
   "outputs": [],
   "source": [
    "loss_fn = nn.CrossEntropyLoss()\n",
    "optimizer = torch.optim.Adam(net.parameters(), lr = 1e-3)"
   ]
  },
  {
   "cell_type": "code",
   "execution_count": 205,
   "id": "5786dbae-ea56-452a-9c66-e14553986e2a",
   "metadata": {},
   "outputs": [],
   "source": [
    "def accuracy(pred, label):\n",
    "    answer = F.softmax(pred.detach(), dim=1).numpy().argmax(1) == label.numpy().argmax(1)\n",
    "    return answer.mean()"
   ]
  },
  {
   "cell_type": "code",
   "execution_count": 209,
   "id": "06b677ff-ec90-44d6-a765-ce01237603ff",
   "metadata": {
    "scrolled": true
   },
   "outputs": [
    {
     "name": "stderr",
     "output_type": "stream",
     "text": [
      "100%|███████████████████████████████████████████| 18/18 [00:01<00:00, 14.19it/s]\n"
     ]
    },
    {
     "name": "stdout",
     "output_type": "stream",
     "text": [
      "0.48090952303674483\n",
      "0.7916666666666666\n"
     ]
    },
    {
     "name": "stderr",
     "output_type": "stream",
     "text": [
      "100%|███████████████████████████████████████████| 18/18 [00:01<00:00, 14.44it/s]\n"
     ]
    },
    {
     "name": "stdout",
     "output_type": "stream",
     "text": [
      "0.4779139641258452\n",
      "0.7951388888888888\n"
     ]
    },
    {
     "name": "stderr",
     "output_type": "stream",
     "text": [
      "100%|███████████████████████████████████████████| 18/18 [00:01<00:00, 13.74it/s]\n"
     ]
    },
    {
     "name": "stdout",
     "output_type": "stream",
     "text": [
      "0.4768507132927577\n",
      "0.78125\n"
     ]
    },
    {
     "name": "stderr",
     "output_type": "stream",
     "text": [
      "100%|███████████████████████████████████████████| 18/18 [00:01<00:00, 12.32it/s]\n"
     ]
    },
    {
     "name": "stdout",
     "output_type": "stream",
     "text": [
      "0.4750903331571155\n",
      "0.7777777777777778\n"
     ]
    },
    {
     "name": "stderr",
     "output_type": "stream",
     "text": [
      "100%|███████████████████████████████████████████| 18/18 [00:01<00:00, 13.23it/s]\n"
     ]
    },
    {
     "name": "stdout",
     "output_type": "stream",
     "text": [
      "0.49060459103849197\n",
      "0.7916666666666666\n"
     ]
    },
    {
     "name": "stderr",
     "output_type": "stream",
     "text": [
      "100%|███████████████████████████████████████████| 18/18 [00:01<00:00, 13.18it/s]\n"
     ]
    },
    {
     "name": "stdout",
     "output_type": "stream",
     "text": [
      "0.4636906103955375\n",
      "0.7881944444444444\n"
     ]
    },
    {
     "name": "stderr",
     "output_type": "stream",
     "text": [
      "100%|███████████████████████████████████████████| 18/18 [00:01<00:00, 13.35it/s]\n"
     ]
    },
    {
     "name": "stdout",
     "output_type": "stream",
     "text": [
      "0.4895409312513139\n",
      "0.7847222222222222\n"
     ]
    },
    {
     "name": "stderr",
     "output_type": "stream",
     "text": [
      "100%|███████████████████████████████████████████| 18/18 [00:01<00:00, 13.85it/s]\n"
     ]
    },
    {
     "name": "stdout",
     "output_type": "stream",
     "text": [
      "0.43866215149561566\n",
      "0.8020833333333334\n"
     ]
    },
    {
     "name": "stderr",
     "output_type": "stream",
     "text": [
      "100%|███████████████████████████████████████████| 18/18 [00:01<00:00, 13.64it/s]\n"
     ]
    },
    {
     "name": "stdout",
     "output_type": "stream",
     "text": [
      "0.39110497136910755\n",
      "0.8298611111111112\n"
     ]
    },
    {
     "name": "stderr",
     "output_type": "stream",
     "text": [
      "100%|███████████████████████████████████████████| 18/18 [00:01<00:00, 12.92it/s]"
     ]
    },
    {
     "name": "stdout",
     "output_type": "stream",
     "text": [
      "0.43657660318745506\n",
      "0.7916666666666666\n"
     ]
    },
    {
     "name": "stderr",
     "output_type": "stream",
     "text": [
      "\n"
     ]
    }
   ],
   "source": [
    "epochs = 10 \n",
    "for epoch in range(epochs):\n",
    "    loss_val = 0\n",
    "    acc_val = 0 \n",
    "    for sample in (pbar := tqdm(train_dataloader)):\n",
    "        img, label = sample['img'], sample['label']\n",
    "        optimizer.zero_grad()\n",
    "        label = F.one_hot(label, 2).float()\n",
    "        pred = net(img)\n",
    "        loss = loss_fn(pred, label)\n",
    "\n",
    "        loss.backward()\n",
    "        loss_item = loss.item()\n",
    "        loss_val += loss_item\n",
    "\n",
    "        optimizer.step()\n",
    "\n",
    "        acc_current = accuracy(pred, label)\n",
    "        acc_val += acc_current\n",
    "\n",
    "    pbar.set_description(f'loss: {loss_item:.5f}\\taccuracy: {acc_current:.3f}')\n",
    "    print(loss_val/len(train_dataloader))\n",
    "    print(acc_val/len(train_dataloader))\n"
   ]
  },
  {
   "cell_type": "code",
   "execution_count": null,
   "id": "ef89a401-eea3-43b3-b6ac-ac703a688bbd",
   "metadata": {},
   "outputs": [],
   "source": [
    "loss_val = 0\n",
    "acc_val = 0 \n",
    "for sample in (pbar := tqdm(test_dataloader)):\n",
    "    with torch.no_grad():\n",
    "        img, label = sample['img'], sample['label']\n",
    "        \n",
    "        label = F.one_hot(label, 2).float()\n",
    "        pred = net(img)\n",
    "        \n",
    "        loss = loss_fn(pred, label)\n",
    "        loss_item = loss.item()\n",
    "        loss_val += loss_item\n",
    "        \n",
    "        acc_current = accuracy(pred, label)\n",
    "        acc_val += acc_current\n",
    "    \n",
    "    pbar.set_description(f'loss: {loss_item:.5f}\\taccuracy: {acc_current:.3f}')\n",
    "print(loss_val/len(test_dataloader))\n",
    "print(acc_val/len(test_dataloader))\n"
   ]
  }
 ],
 "metadata": {
  "kernelspec": {
   "display_name": "Python 3 (ipykernel)",
   "language": "python",
   "name": "python3"
  },
  "language_info": {
   "codemirror_mode": {
    "name": "ipython",
    "version": 3
   },
   "file_extension": ".py",
   "mimetype": "text/x-python",
   "name": "python",
   "nbconvert_exporter": "python",
   "pygments_lexer": "ipython3",
   "version": "3.8.10"
  }
 },
 "nbformat": 4,
 "nbformat_minor": 5
}
